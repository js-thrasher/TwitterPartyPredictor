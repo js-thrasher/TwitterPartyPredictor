{
 "cells": [
  {
   "cell_type": "code",
   "execution_count": 6,
   "metadata": {},
   "outputs": [],
   "source": [
    "import pandas as pd\n",
    "import numpy as np\n",
    "import requests\n",
    "import os\n",
    "import json"
   ]
  },
  {
   "cell_type": "code",
   "execution_count": 33,
   "metadata": {},
   "outputs": [],
   "source": [
    "politicians = pd.read_csv('politicians.csv')\n",
    "politicians = politicians[(politicians['Political_party'] == 'Democratic Party') | (politicians['Political_party'] == 'Republican Party')]\n",
    "tweets = pd.DataFrame(columns = ['id', 'text','party'])\n",
    "bearer_token = os.environ.get('BEARER_TOKEN') #can do export'BEARER_TOKEN'=$your_token\n",
    "                                              #not showing my token here for what I hope are obvious reasons\n",
    "#huge antipattern but I couldn't figure out a better way to do this\n",
    "for accid, party in zip(politicians['Account_ID'], politicians['Political_party']):\n",
    "    temp = fill_tweets(bearer_token,accid, party)\n",
    "    if (temp.empty):\n",
    "        print('empty!')\n",
    "    else:\n",
    "        tweets = tweets.append(temp)"
   ]
  },
  {
   "cell_type": "code",
   "execution_count": 31,
   "metadata": {},
   "outputs": [],
   "source": [
    "def create_url(accid):\n",
    "    query = \"from:{}\".format(accid)\n",
    "    fields = \"tweet.fields=text\"\n",
    "    url = \"https://api.twitter.com/2/tweets/search/recent?query={}&{}\".format(\n",
    "    query, fields\n",
    "    )\n",
    "    return url\n",
    "    \n",
    "def create_headers(bearer_token):\n",
    "    headers = {\"Authorization\": \"Bearer {}\".format(bearer_token)}\n",
    "    return headers\n",
    "\n",
    "def connect_to_endpoint(url, headers):\n",
    "    response = requests.request(\"GET\", url, headers=headers)\n",
    "    print(response.status_code)\n",
    "    if response.status_code != 200:\n",
    "        raise Exception(response.status_code, response.text)\n",
    "    return response.json()"
   ]
  },
  {
   "cell_type": "code",
   "execution_count": 32,
   "metadata": {},
   "outputs": [],
   "source": [
    "def fill_tweets(token, accid, party):\n",
    "    url = create_url(accid)\n",
    "    headers = create_headers(token)\n",
    "    json_response = connect_to_endpoint(url, headers)\n",
    "    if 'data' in json_response:\n",
    "        app = pd.DataFrame.from_records(json_response['data'])\n",
    "        app['party'] = party\n",
    "    else:\n",
    "        return pd.DataFrame(columns = ['id', 'text', 'party'])\n",
    "    return app"
   ]
  },
  {
   "cell_type": "code",
   "execution_count": 17,
   "metadata": {},
   "outputs": [],
   "source": []
  },
  {
   "cell_type": "code",
   "execution_count": 36,
   "metadata": {},
   "outputs": [
    {
     "data": {
      "text/plain": [
       "(1355, 3)"
      ]
     },
     "execution_count": 36,
     "metadata": {},
     "output_type": "execute_result"
    }
   ],
   "source": [
    "tweets.shape"
   ]
  },
  {
   "cell_type": "code",
   "execution_count": 37,
   "metadata": {},
   "outputs": [],
   "source": [
    "tweets.to_pickle('tweets.pkl')"
   ]
  },
  {
   "cell_type": "code",
   "execution_count": null,
   "metadata": {},
   "outputs": [],
   "source": []
  }
 ],
 "metadata": {
  "kernelspec": {
   "display_name": "Python 3",
   "language": "python",
   "name": "python3"
  },
  "language_info": {
   "codemirror_mode": {
    "name": "ipython",
    "version": 3
   },
   "file_extension": ".py",
   "mimetype": "text/x-python",
   "name": "python",
   "nbconvert_exporter": "python",
   "pygments_lexer": "ipython3",
   "version": "3.6.10"
  }
 },
 "nbformat": 4,
 "nbformat_minor": 2
}
